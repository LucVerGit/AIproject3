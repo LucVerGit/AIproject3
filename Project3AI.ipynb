{
  "cells": [
    {
      "cell_type": "markdown",
      "metadata": {
        "id": "view-in-github",
        "colab_type": "text"
      },
      "source": [
        "<a href=\"https://colab.research.google.com/github/LucVerGit/EntrevoisinLuc/blob/master/Project3AI.ipynb\" target=\"_parent\"><img src=\"https://colab.research.google.com/assets/colab-badge.svg\" alt=\"Open In Colab\"/></a>"
      ]
    },
    {
      "cell_type": "markdown",
      "metadata": {
        "id": "jwead3ElsVJp"
      },
      "source": [
        ""
      ]
    },
    {
      "cell_type": "code",
      "execution_count": null,
      "metadata": {
        "id": "61_lKKKvGfXu"
      },
      "outputs": [],
      "source": [
        "\n",
        "import plotly.graph_objects as go\n",
        "fig = go.Figure()\n",
        "\n",
        "import numpy as np\n",
        "import pandas as pd\n",
        "import matplotlib.pyplot as plt\n",
        "import seaborn as sns\n",
        "\n",
        "from sklearn.model_selection import train_test_split\n",
        "from sklearn import datasets\n",
        "from sklearn import svm\n",
        "from sklearn.cluster import KMeans\n",
        "from sklearn.experimental import enable_iterative_imputer\n",
        "from sklearn.impute import IterativeImputer\n",
        "\n",
        "from sklearn.impute import KNNImputer\n",
        "\n",
        "import seaborn as sns; sns.set_theme(color_codes=True)\n"
      ]
    },
    {
      "cell_type": "code",
      "execution_count": null,
      "metadata": {
        "colab": {
          "base_uri": "https://localhost:8080/"
        },
        "id": "5JatdPEP1X54",
        "outputId": "106dbea1-e6cd-4469-9ba7-2059cf65c3a7"
      },
      "outputs": [
        {
          "output_type": "stream",
          "name": "stdout",
          "text": [
            "Drive already mounted at /content/drive; to attempt to forcibly remount, call drive.mount(\"/content/drive\", force_remount=True).\n"
          ]
        }
      ],
      "source": [
        "from google.colab import drive\n",
        "drive.mount('/content/drive')\n"
      ]
    },
    {
      "cell_type": "code",
      "execution_count": null,
      "metadata": {
        "colab": {
          "base_uri": "https://localhost:8080/"
        },
        "id": "67dcb06e",
        "outputId": "ea3ef2e5-08c8-4672-b6d5-5bfe7149c05c"
      },
      "outputs": [
        {
          "output_type": "stream",
          "name": "stderr",
          "text": [
            "/usr/local/lib/python3.7/dist-packages/IPython/core/interactiveshell.py:2882: DtypeWarning:\n",
            "\n",
            "Columns (0,3,5,19,20,24,25,26,27,28,35,36,37,38,39,48) have mixed types.Specify dtype option on import or set low_memory=False.\n",
            "\n"
          ]
        }
      ],
      "source": [
        "\n",
        "# Load data\n",
        "\n",
        "df = pd.read_csv('/content/drive/MyDrive/Notebook_pyton/fr-openfoodfacts-org-products.csv' ,sep= '\\t' )"
      ]
    },
    {
      "cell_type": "code",
      "execution_count": null,
      "metadata": {
        "colab": {
          "base_uri": "https://localhost:8080/",
          "height": 423
        },
        "id": "lSYFqSHWSacs",
        "outputId": "a1c0bf9a-1430-4649-f2e1-98e6e40027a5"
      },
      "outputs": [
        {
          "output_type": "execute_result",
          "data": {
            "text/plain": [
              "                                            count        mean         std  \\\n",
              "no_nutriments                                 0.0         NaN         NaN   \n",
              "additives_n                              248939.0    1.936024    2.502019   \n",
              "ingredients_from_palm_oil_n              248939.0    0.019659    0.140524   \n",
              "ingredients_from_palm_oil                     0.0         NaN         NaN   \n",
              "ingredients_that_may_be_from_palm_oil_n  248939.0    0.055246    0.269207   \n",
              "...                                           ...         ...         ...   \n",
              "carbon-footprint_100g                       268.0  341.700764  425.211439   \n",
              "nutrition-score-fr_100g                  221210.0    9.165535    9.055903   \n",
              "nutrition-score-uk_100g                  221210.0    9.058049    9.183589   \n",
              "glycemic-index_100g                           0.0         NaN         NaN   \n",
              "water-hardness_100g                           0.0         NaN         NaN   \n",
              "\n",
              "                                          min    25%     50%    75%     max  \n",
              "no_nutriments                             NaN    NaN     NaN    NaN     NaN  \n",
              "additives_n                               0.0   0.00    1.00    3.0    31.0  \n",
              "ingredients_from_palm_oil_n               0.0   0.00    0.00    0.0     2.0  \n",
              "ingredients_from_palm_oil                 NaN    NaN     NaN    NaN     NaN  \n",
              "ingredients_that_may_be_from_palm_oil_n   0.0   0.00    0.00    0.0     6.0  \n",
              "...                                       ...    ...     ...    ...     ...  \n",
              "carbon-footprint_100g                     0.0  98.75  195.75  383.2  2842.0  \n",
              "nutrition-score-fr_100g                 -15.0   1.00   10.00   16.0    40.0  \n",
              "nutrition-score-uk_100g                 -15.0   1.00    9.00   16.0    40.0  \n",
              "glycemic-index_100g                       NaN    NaN     NaN    NaN     NaN  \n",
              "water-hardness_100g                       NaN    NaN     NaN    NaN     NaN  \n",
              "\n",
              "[106 rows x 8 columns]"
            ],
            "text/html": [
              "\n",
              "  <div id=\"df-fef89e06-8183-462c-98b8-a9eb01fa1da2\">\n",
              "    <div class=\"colab-df-container\">\n",
              "      <div>\n",
              "<style scoped>\n",
              "    .dataframe tbody tr th:only-of-type {\n",
              "        vertical-align: middle;\n",
              "    }\n",
              "\n",
              "    .dataframe tbody tr th {\n",
              "        vertical-align: top;\n",
              "    }\n",
              "\n",
              "    .dataframe thead th {\n",
              "        text-align: right;\n",
              "    }\n",
              "</style>\n",
              "<table border=\"1\" class=\"dataframe\">\n",
              "  <thead>\n",
              "    <tr style=\"text-align: right;\">\n",
              "      <th></th>\n",
              "      <th>count</th>\n",
              "      <th>mean</th>\n",
              "      <th>std</th>\n",
              "      <th>min</th>\n",
              "      <th>25%</th>\n",
              "      <th>50%</th>\n",
              "      <th>75%</th>\n",
              "      <th>max</th>\n",
              "    </tr>\n",
              "  </thead>\n",
              "  <tbody>\n",
              "    <tr>\n",
              "      <th>no_nutriments</th>\n",
              "      <td>0.0</td>\n",
              "      <td>NaN</td>\n",
              "      <td>NaN</td>\n",
              "      <td>NaN</td>\n",
              "      <td>NaN</td>\n",
              "      <td>NaN</td>\n",
              "      <td>NaN</td>\n",
              "      <td>NaN</td>\n",
              "    </tr>\n",
              "    <tr>\n",
              "      <th>additives_n</th>\n",
              "      <td>248939.0</td>\n",
              "      <td>1.936024</td>\n",
              "      <td>2.502019</td>\n",
              "      <td>0.0</td>\n",
              "      <td>0.00</td>\n",
              "      <td>1.00</td>\n",
              "      <td>3.0</td>\n",
              "      <td>31.0</td>\n",
              "    </tr>\n",
              "    <tr>\n",
              "      <th>ingredients_from_palm_oil_n</th>\n",
              "      <td>248939.0</td>\n",
              "      <td>0.019659</td>\n",
              "      <td>0.140524</td>\n",
              "      <td>0.0</td>\n",
              "      <td>0.00</td>\n",
              "      <td>0.00</td>\n",
              "      <td>0.0</td>\n",
              "      <td>2.0</td>\n",
              "    </tr>\n",
              "    <tr>\n",
              "      <th>ingredients_from_palm_oil</th>\n",
              "      <td>0.0</td>\n",
              "      <td>NaN</td>\n",
              "      <td>NaN</td>\n",
              "      <td>NaN</td>\n",
              "      <td>NaN</td>\n",
              "      <td>NaN</td>\n",
              "      <td>NaN</td>\n",
              "      <td>NaN</td>\n",
              "    </tr>\n",
              "    <tr>\n",
              "      <th>ingredients_that_may_be_from_palm_oil_n</th>\n",
              "      <td>248939.0</td>\n",
              "      <td>0.055246</td>\n",
              "      <td>0.269207</td>\n",
              "      <td>0.0</td>\n",
              "      <td>0.00</td>\n",
              "      <td>0.00</td>\n",
              "      <td>0.0</td>\n",
              "      <td>6.0</td>\n",
              "    </tr>\n",
              "    <tr>\n",
              "      <th>...</th>\n",
              "      <td>...</td>\n",
              "      <td>...</td>\n",
              "      <td>...</td>\n",
              "      <td>...</td>\n",
              "      <td>...</td>\n",
              "      <td>...</td>\n",
              "      <td>...</td>\n",
              "      <td>...</td>\n",
              "    </tr>\n",
              "    <tr>\n",
              "      <th>carbon-footprint_100g</th>\n",
              "      <td>268.0</td>\n",
              "      <td>341.700764</td>\n",
              "      <td>425.211439</td>\n",
              "      <td>0.0</td>\n",
              "      <td>98.75</td>\n",
              "      <td>195.75</td>\n",
              "      <td>383.2</td>\n",
              "      <td>2842.0</td>\n",
              "    </tr>\n",
              "    <tr>\n",
              "      <th>nutrition-score-fr_100g</th>\n",
              "      <td>221210.0</td>\n",
              "      <td>9.165535</td>\n",
              "      <td>9.055903</td>\n",
              "      <td>-15.0</td>\n",
              "      <td>1.00</td>\n",
              "      <td>10.00</td>\n",
              "      <td>16.0</td>\n",
              "      <td>40.0</td>\n",
              "    </tr>\n",
              "    <tr>\n",
              "      <th>nutrition-score-uk_100g</th>\n",
              "      <td>221210.0</td>\n",
              "      <td>9.058049</td>\n",
              "      <td>9.183589</td>\n",
              "      <td>-15.0</td>\n",
              "      <td>1.00</td>\n",
              "      <td>9.00</td>\n",
              "      <td>16.0</td>\n",
              "      <td>40.0</td>\n",
              "    </tr>\n",
              "    <tr>\n",
              "      <th>glycemic-index_100g</th>\n",
              "      <td>0.0</td>\n",
              "      <td>NaN</td>\n",
              "      <td>NaN</td>\n",
              "      <td>NaN</td>\n",
              "      <td>NaN</td>\n",
              "      <td>NaN</td>\n",
              "      <td>NaN</td>\n",
              "      <td>NaN</td>\n",
              "    </tr>\n",
              "    <tr>\n",
              "      <th>water-hardness_100g</th>\n",
              "      <td>0.0</td>\n",
              "      <td>NaN</td>\n",
              "      <td>NaN</td>\n",
              "      <td>NaN</td>\n",
              "      <td>NaN</td>\n",
              "      <td>NaN</td>\n",
              "      <td>NaN</td>\n",
              "      <td>NaN</td>\n",
              "    </tr>\n",
              "  </tbody>\n",
              "</table>\n",
              "<p>106 rows × 8 columns</p>\n",
              "</div>\n",
              "      <button class=\"colab-df-convert\" onclick=\"convertToInteractive('df-fef89e06-8183-462c-98b8-a9eb01fa1da2')\"\n",
              "              title=\"Convert this dataframe to an interactive table.\"\n",
              "              style=\"display:none;\">\n",
              "        \n",
              "  <svg xmlns=\"http://www.w3.org/2000/svg\" height=\"24px\"viewBox=\"0 0 24 24\"\n",
              "       width=\"24px\">\n",
              "    <path d=\"M0 0h24v24H0V0z\" fill=\"none\"/>\n",
              "    <path d=\"M18.56 5.44l.94 2.06.94-2.06 2.06-.94-2.06-.94-.94-2.06-.94 2.06-2.06.94zm-11 1L8.5 8.5l.94-2.06 2.06-.94-2.06-.94L8.5 2.5l-.94 2.06-2.06.94zm10 10l.94 2.06.94-2.06 2.06-.94-2.06-.94-.94-2.06-.94 2.06-2.06.94z\"/><path d=\"M17.41 7.96l-1.37-1.37c-.4-.4-.92-.59-1.43-.59-.52 0-1.04.2-1.43.59L10.3 9.45l-7.72 7.72c-.78.78-.78 2.05 0 2.83L4 21.41c.39.39.9.59 1.41.59.51 0 1.02-.2 1.41-.59l7.78-7.78 2.81-2.81c.8-.78.8-2.07 0-2.86zM5.41 20L4 18.59l7.72-7.72 1.47 1.35L5.41 20z\"/>\n",
              "  </svg>\n",
              "      </button>\n",
              "      \n",
              "  <style>\n",
              "    .colab-df-container {\n",
              "      display:flex;\n",
              "      flex-wrap:wrap;\n",
              "      gap: 12px;\n",
              "    }\n",
              "\n",
              "    .colab-df-convert {\n",
              "      background-color: #E8F0FE;\n",
              "      border: none;\n",
              "      border-radius: 50%;\n",
              "      cursor: pointer;\n",
              "      display: none;\n",
              "      fill: #1967D2;\n",
              "      height: 32px;\n",
              "      padding: 0 0 0 0;\n",
              "      width: 32px;\n",
              "    }\n",
              "\n",
              "    .colab-df-convert:hover {\n",
              "      background-color: #E2EBFA;\n",
              "      box-shadow: 0px 1px 2px rgba(60, 64, 67, 0.3), 0px 1px 3px 1px rgba(60, 64, 67, 0.15);\n",
              "      fill: #174EA6;\n",
              "    }\n",
              "\n",
              "    [theme=dark] .colab-df-convert {\n",
              "      background-color: #3B4455;\n",
              "      fill: #D2E3FC;\n",
              "    }\n",
              "\n",
              "    [theme=dark] .colab-df-convert:hover {\n",
              "      background-color: #434B5C;\n",
              "      box-shadow: 0px 1px 3px 1px rgba(0, 0, 0, 0.15);\n",
              "      filter: drop-shadow(0px 1px 2px rgba(0, 0, 0, 0.3));\n",
              "      fill: #FFFFFF;\n",
              "    }\n",
              "  </style>\n",
              "\n",
              "      <script>\n",
              "        const buttonEl =\n",
              "          document.querySelector('#df-fef89e06-8183-462c-98b8-a9eb01fa1da2 button.colab-df-convert');\n",
              "        buttonEl.style.display =\n",
              "          google.colab.kernel.accessAllowed ? 'block' : 'none';\n",
              "\n",
              "        async function convertToInteractive(key) {\n",
              "          const element = document.querySelector('#df-fef89e06-8183-462c-98b8-a9eb01fa1da2');\n",
              "          const dataTable =\n",
              "            await google.colab.kernel.invokeFunction('convertToInteractive',\n",
              "                                                     [key], {});\n",
              "          if (!dataTable) return;\n",
              "\n",
              "          const docLinkHtml = 'Like what you see? Visit the ' +\n",
              "            '<a target=\"_blank\" href=https://colab.research.google.com/notebooks/data_table.ipynb>data table notebook</a>'\n",
              "            + ' to learn more about interactive tables.';\n",
              "          element.innerHTML = '';\n",
              "          dataTable['output_type'] = 'display_data';\n",
              "          await google.colab.output.renderOutput(dataTable, element);\n",
              "          const docLink = document.createElement('div');\n",
              "          docLink.innerHTML = docLinkHtml;\n",
              "          element.appendChild(docLink);\n",
              "        }\n",
              "      </script>\n",
              "    </div>\n",
              "  </div>\n",
              "  "
            ]
          },
          "metadata": {},
          "execution_count": 5
        }
      ],
      "source": [
        "df.describe().T"
      ]
    },
    {
      "cell_type": "code",
      "execution_count": null,
      "metadata": {
        "colab": {
          "base_uri": "https://localhost:8080/"
        },
        "id": "WevhOKY_IuHQ",
        "outputId": "78dbaac9-ece1-4051-ff51-162776738e8e"
      },
      "outputs": [
        {
          "output_type": "execute_result",
          "data": {
            "text/plain": [
              "0         17\n",
              "1         38\n",
              "2         40\n",
              "3         36\n",
              "4         27\n",
              "          ..\n",
              "320767    19\n",
              "320768    45\n",
              "320769    29\n",
              "320770    17\n",
              "320771    33\n",
              "Length: 320772, dtype: int64"
            ]
          },
          "metadata": {},
          "execution_count": 6
        }
      ],
      "source": [
        "df.dtypes\n",
        "df.notna().sum()\n",
        "df.notna().sum(axis=1)"
      ]
    },
    {
      "cell_type": "code",
      "execution_count": null,
      "metadata": {
        "colab": {
          "base_uri": "https://localhost:8080/"
        },
        "id": "CqJXgEPHOI0o",
        "outputId": "5ea5fc7d-2f70-49db-ef4d-49606632df59"
      },
      "outputs": [
        {
          "output_type": "stream",
          "name": "stdout",
          "text": [
            "code\n",
            "url\n",
            "creator\n",
            "created_t\n",
            "created_datetime\n",
            "last_modified_t\n",
            "last_modified_datetime\n",
            "product_name\n",
            "generic_name\n",
            "quantity\n",
            "packaging\n",
            "packaging_tags\n",
            "brands\n",
            "brands_tags\n",
            "categories\n",
            "categories_tags\n",
            "categories_fr\n",
            "origins\n",
            "origins_tags\n",
            "manufacturing_places\n",
            "manufacturing_places_tags\n",
            "labels\n",
            "labels_tags\n",
            "labels_fr\n",
            "emb_codes\n",
            "emb_codes_tags\n",
            "first_packaging_code_geo\n",
            "cities\n",
            "cities_tags\n",
            "purchase_places\n",
            "stores\n",
            "countries\n",
            "countries_tags\n",
            "countries_fr\n",
            "ingredients_text\n",
            "allergens\n",
            "allergens_fr\n",
            "traces\n",
            "traces_tags\n",
            "traces_fr\n",
            "serving_size\n",
            "no_nutriments\n",
            "additives_n\n",
            "additives\n",
            "additives_tags\n",
            "additives_fr\n",
            "ingredients_from_palm_oil_n\n",
            "ingredients_from_palm_oil\n",
            "ingredients_from_palm_oil_tags\n",
            "ingredients_that_may_be_from_palm_oil_n\n",
            "ingredients_that_may_be_from_palm_oil\n",
            "ingredients_that_may_be_from_palm_oil_tags\n",
            "nutrition_grade_uk\n",
            "nutrition_grade_fr\n",
            "pnns_groups_1\n",
            "pnns_groups_2\n",
            "states\n",
            "states_tags\n",
            "states_fr\n",
            "main_category\n",
            "main_category_fr\n",
            "image_url\n",
            "image_small_url\n",
            "energy_100g\n",
            "energy-from-fat_100g\n",
            "fat_100g\n",
            "saturated-fat_100g\n",
            "butyric-acid_100g\n",
            "caproic-acid_100g\n",
            "caprylic-acid_100g\n",
            "capric-acid_100g\n",
            "lauric-acid_100g\n",
            "myristic-acid_100g\n",
            "palmitic-acid_100g\n",
            "stearic-acid_100g\n",
            "arachidic-acid_100g\n",
            "behenic-acid_100g\n",
            "lignoceric-acid_100g\n",
            "cerotic-acid_100g\n",
            "montanic-acid_100g\n",
            "melissic-acid_100g\n",
            "monounsaturated-fat_100g\n",
            "polyunsaturated-fat_100g\n",
            "omega-3-fat_100g\n",
            "alpha-linolenic-acid_100g\n",
            "eicosapentaenoic-acid_100g\n",
            "docosahexaenoic-acid_100g\n",
            "omega-6-fat_100g\n",
            "linoleic-acid_100g\n",
            "arachidonic-acid_100g\n",
            "gamma-linolenic-acid_100g\n",
            "dihomo-gamma-linolenic-acid_100g\n",
            "omega-9-fat_100g\n",
            "oleic-acid_100g\n",
            "elaidic-acid_100g\n",
            "gondoic-acid_100g\n",
            "mead-acid_100g\n",
            "erucic-acid_100g\n",
            "nervonic-acid_100g\n",
            "trans-fat_100g\n",
            "cholesterol_100g\n",
            "carbohydrates_100g\n",
            "sugars_100g\n",
            "sucrose_100g\n",
            "glucose_100g\n",
            "fructose_100g\n",
            "lactose_100g\n",
            "maltose_100g\n",
            "maltodextrins_100g\n",
            "starch_100g\n",
            "polyols_100g\n",
            "fiber_100g\n",
            "proteins_100g\n",
            "casein_100g\n",
            "serum-proteins_100g\n",
            "nucleotides_100g\n",
            "salt_100g\n",
            "sodium_100g\n",
            "alcohol_100g\n",
            "vitamin-a_100g\n",
            "beta-carotene_100g\n",
            "vitamin-d_100g\n",
            "vitamin-e_100g\n",
            "vitamin-k_100g\n",
            "vitamin-c_100g\n",
            "vitamin-b1_100g\n",
            "vitamin-b2_100g\n",
            "vitamin-pp_100g\n",
            "vitamin-b6_100g\n",
            "vitamin-b9_100g\n",
            "folates_100g\n",
            "vitamin-b12_100g\n",
            "biotin_100g\n",
            "pantothenic-acid_100g\n",
            "silica_100g\n",
            "bicarbonate_100g\n",
            "potassium_100g\n",
            "chloride_100g\n",
            "calcium_100g\n",
            "phosphorus_100g\n",
            "iron_100g\n",
            "magnesium_100g\n",
            "zinc_100g\n",
            "copper_100g\n",
            "manganese_100g\n",
            "fluoride_100g\n",
            "selenium_100g\n",
            "chromium_100g\n",
            "molybdenum_100g\n",
            "iodine_100g\n",
            "caffeine_100g\n",
            "taurine_100g\n",
            "ph_100g\n",
            "fruits-vegetables-nuts_100g\n",
            "collagen-meat-protein-ratio_100g\n",
            "cocoa_100g\n",
            "chlorophyl_100g\n",
            "carbon-footprint_100g\n",
            "nutrition-score-fr_100g\n",
            "nutrition-score-uk_100g\n",
            "glycemic-index_100g\n",
            "water-hardness_100g\n"
          ]
        }
      ],
      "source": [
        "for col in df.columns:\n",
        "    print(col)"
      ]
    },
    {
      "cell_type": "markdown",
      "metadata": {
        "id": "TqMd76g0FyoR"
      },
      "source": [
        "## répartition des différentes colonnes du jeu de données"
      ]
    },
    {
      "cell_type": "code",
      "execution_count": null,
      "metadata": {
        "colab": {
          "base_uri": "https://localhost:8080/",
          "height": 628
        },
        "id": "JAoATaLBCZx-",
        "outputId": "f1a20986-20a2-4743-f340-3c3c89c249df"
      },
      "outputs": [
        {
          "output_type": "display_data",
          "data": {
            "text/plain": [
              "<Figure size 1080x720 with 1 Axes>"
            ],
            "image/png": "[encoded data removed]"
          },
          "metadata": {
            "needs_background": "light"
          }
        }
      ],
      "source": [
        "def plot_distribution_empty_value(data):\n",
        "    notna = ((data.notna().sum()/data.shape[0])*100).sort_values(ascending=False)\n",
        "    notna.plot(kind=\"hist\",figsize=(15,10),bins=notna.shape[0])\n",
        "    plt.title(\"Distribution des data\",fontsize=16)\n",
        "    plt.xlabel(\"Pourcentage de remplissage des colonnes\")\n",
        "    plt.show()\n",
        "\n",
        "plot_distribution_empty_value(df)"
      ]
    },
    {
      "cell_type": "markdown",
      "metadata": {
        "id": "Il2ldfRcTUMQ"
      },
      "source": [
        "todo squellette de markdown\n",
        "trello"
      ]
    },
    {
      "cell_type": "code",
      "execution_count": null,
      "metadata": {
        "id": "trypKSptl7BG"
      },
      "outputs": [],
      "source": [
        " #filtre les colonnes avec un pourcentage de val non Nan\n",
        "def filter_col_rate_notna(data,rate_na_row_min=0.8):\n",
        "    if type(data) != type(pd.DataFrame()):\n",
        "        raise ValueError(f\"data n\\'est pas un DataFrame pandas mais de type {type(data)}!\")\n",
        "    \n",
        "    return data[data.columns[data.isna().sum()/data.shape[0] <= rate_na_row_min]].copy()\n"
      ]
    },
    {
      "cell_type": "markdown",
      "metadata": {
        "id": "ffPYMGwFUFtR"
      },
      "source": [
        "##STEP1 **STEP1 **\n",
        "Le nettoyage des données est complet si :\n",
        "\n",
        "x les éventuelles valeurs manquantes de chaque colonnes ont été identifiées, quantifiées et traitées. Il est attendu la mise en œuvre d’au moins 3 méthodes de traitement des valeurs manquantes, adaptées aux variables concernées (médiane, mise à 0, IterativeImputer, KNN, suppression, …).\n",
        "\n",
        "x pour chaque variable, les éventuels outliers d’un point de vue statistique ont été mis en évidence et analysés, afin de s’assurer s’il s’agit de valeurs aberrantes ou atypiques. Les éventuelles valeurs aberrantes ont été identifiées, quantifiées et traitées, en tenant compte du contexte métier\n",
        "\n",
        "x (Es-que la heat map is best idea ?) les variables non pertinentes pour la problématique de l'application ont été éliminées.\n",
        "\n",
        "(X)les lignes dupliquées ont été identifiées, quantifiées et traitées.\n",
        "\n",
        " (X) au moins une fonction a été écrite, testée et utilisée pour nettoyer le jeu de données.\n",
        "\n",
        "\n",
        "Le nettoyage des données est pertinent si :\n",
        " (X) une méthodologie de traitement des valeurs manquantes pour chaque colonne est justifiée et mise en oeuvre (ex : remplacer les valeurs manquantes d’une colonne par la valeur moyenne de la colonne)\n",
        "(X) une méthodologie de traitement des lignes dupliquées est justifiée et mise en oeuvre (ex : les lignes doublons ont été supprimés).\n",
        "\n",
        "\n",
        "Le nettoyage des données est présentable si :\n",
        "(X) les fonctionnalités d’édition de cellule Markdown du Jupyter Notebook sont utilisées dans au moins trois cellules pour décrire les choix méthodologiques et rendre lisible le document (titres, mise en forme, alternance de cellule d’exécution de code Python et de cellule de texte explicatif) \n",
        "\n",
        "(X)la démarche de nettoyage des données est visible dans la structure du document (découpage du document en partie avec des titres clairs et mis en évidence, des commentaires à l’intérieur des parties pour expliciter la démarche, …)"
      ]
    },
    {
      "cell_type": "code",
      "execution_count": null,
      "metadata": {
        "id": "-9-6sTclEWXW",
        "colab": {
          "base_uri": "https://localhost:8080/"
        },
        "outputId": "f68422a8-78d2-471d-8c59-30d3a134e106"
      },
      "outputs": [
        {
          "output_type": "execute_result",
          "data": {
            "text/plain": [
              "0            NaN\n",
              "1         2243.0\n",
              "2         1941.0\n",
              "3         2540.0\n",
              "4         1552.0\n",
              "           ...  \n",
              "320767       NaN\n",
              "320768       0.0\n",
              "320769       NaN\n",
              "320770       NaN\n",
              "320771    2092.0\n",
              "Name: energy_100g, Length: 320772, dtype: float64"
            ]
          },
          "metadata": {},
          "execution_count": 10
        }
      ],
      "source": [
        "df['energy_100g']"
      ]
    },
    {
      "cell_type": "markdown",
      "metadata": {
        "id": "bP-g99tRCMyt"
      },
      "source": [
        ""
      ]
    },
    {
      "cell_type": "markdown",
      "metadata": {
        "id": "9fKXFnWW4LoJ"
      },
      "source": [
        ""
      ]
    },
    {
      "cell_type": "markdown",
      "metadata": {
        "id": "3NcdjuXHsW5V"
      },
      "source": [
        "# **On nettoie le jeu de donnée**\n"
      ]
    },
    {
      "cell_type": "code",
      "execution_count": null,
      "metadata": {
        "colab": {
          "base_uri": "https://localhost:8080/"
        },
        "id": "IzuSaZJcKi5R",
        "outputId": "1c53f09b-9334-41de-8c43-cad913b6e4e3"
      },
      "outputs": [
        {
          "output_type": "stream",
          "name": "stdout",
          "text": [
            "Dimensions initiale du jeu de données: (320772, 162)\n"
          ]
        }
      ],
      "source": [
        "original_data = df\n",
        "print(f'Dimensions initiale du jeu de données: {original_data.shape}')\n",
        "start_row,start_col= original_data.shape\n"
      ]
    },
    {
      "cell_type": "markdown",
      "source": [
        "afficher valeur null"
      ],
      "metadata": {
        "id": "6Mw7BYJEJhba"
      }
    },
    {
      "cell_type": "code",
      "source": [
        "df.isna()"
      ],
      "metadata": {
        "colab": {
          "base_uri": "https://localhost:8080/",
          "height": 423
        },
        "id": "jHwjxsOtKBNE",
        "outputId": "8129b682-5f1b-4082-9f27-ab52ce9a3484"
      },
      "execution_count": null,
      "outputs": [
        {
          "output_type": "execute_result",
          "data": {
            "text/plain": [
              "         code    url  creator  created_t  created_datetime  last_modified_t  \\\n",
              "0       False  False    False      False             False            False   \n",
              "1       False  False    False      False             False            False   \n",
              "2       False  False    False      False             False            False   \n",
              "3       False  False    False      False             False            False   \n",
              "4       False  False    False      False             False            False   \n",
              "...       ...    ...      ...        ...               ...              ...   \n",
              "320767  False  False    False      False             False            False   \n",
              "320768  False  False    False      False             False            False   \n",
              "320769  False  False    False      False             False            False   \n",
              "320770  False  False    False      False             False            False   \n",
              "320771  False  False    False      False             False            False   \n",
              "\n",
              "        last_modified_datetime  product_name  generic_name  quantity  ...  \\\n",
              "0                        False         False          True     False  ...   \n",
              "1                        False         False          True      True  ...   \n",
              "2                        False         False          True      True  ...   \n",
              "3                        False         False          True      True  ...   \n",
              "4                        False         False          True      True  ...   \n",
              "...                        ...           ...           ...       ...  ...   \n",
              "320767                   False         False          True     False  ...   \n",
              "320768                   False         False          True      True  ...   \n",
              "320769                   False         False         False     False  ...   \n",
              "320770                   False         False          True     False  ...   \n",
              "320771                   False         False          True      True  ...   \n",
              "\n",
              "        ph_100g  fruits-vegetables-nuts_100g  \\\n",
              "0          True                         True   \n",
              "1          True                         True   \n",
              "2          True                         True   \n",
              "3          True                         True   \n",
              "4          True                         True   \n",
              "...         ...                          ...   \n",
              "320767     True                         True   \n",
              "320768     True                         True   \n",
              "320769     True                         True   \n",
              "320770     True                         True   \n",
              "320771     True                         True   \n",
              "\n",
              "        collagen-meat-protein-ratio_100g  cocoa_100g  chlorophyl_100g  \\\n",
              "0                                   True        True             True   \n",
              "1                                   True        True             True   \n",
              "2                                   True        True             True   \n",
              "3                                   True        True             True   \n",
              "4                                   True        True             True   \n",
              "...                                  ...         ...              ...   \n",
              "320767                              True        True             True   \n",
              "320768                              True        True             True   \n",
              "320769                              True        True             True   \n",
              "320770                              True        True             True   \n",
              "320771                              True        True             True   \n",
              "\n",
              "        carbon-footprint_100g  nutrition-score-fr_100g  \\\n",
              "0                        True                     True   \n",
              "1                        True                    False   \n",
              "2                        True                    False   \n",
              "3                        True                    False   \n",
              "4                        True                     True   \n",
              "...                       ...                      ...   \n",
              "320767                   True                     True   \n",
              "320768                   True                    False   \n",
              "320769                   True                     True   \n",
              "320770                   True                     True   \n",
              "320771                   True                     True   \n",
              "\n",
              "        nutrition-score-uk_100g  glycemic-index_100g  water-hardness_100g  \n",
              "0                          True                 True                 True  \n",
              "1                         False                 True                 True  \n",
              "2                         False                 True                 True  \n",
              "3                         False                 True                 True  \n",
              "4                          True                 True                 True  \n",
              "...                         ...                  ...                  ...  \n",
              "320767                     True                 True                 True  \n",
              "320768                    False                 True                 True  \n",
              "320769                     True                 True                 True  \n",
              "320770                     True                 True                 True  \n",
              "320771                     True                 True                 True  \n",
              "\n",
              "[320772 rows x 162 columns]"
            ],
            "text/html": [
              "\n",
              "  <div id=\"df-3bc7de42-d1eb-4ca7-b46a-a1a5c9db73e0\">\n",
              "    <div class=\"colab-df-container\">\n",
              "      <div>\n",
              "<style scoped>\n",
              "    .dataframe tbody tr th:only-of-type {\n",
              "        vertical-align: middle;\n",
              "    }\n",
              "\n",
              "    .dataframe tbody tr th {\n",
              "        vertical-align: top;\n",
              "    }\n",
              "\n",
              "    .dataframe thead th {\n",
              "        text-align: right;\n",
              "    }\n",
              "</style>\n",
              "<table border=\"1\" class=\"dataframe\">\n",
              "  <thead>\n",
              "    <tr style=\"text-align: right;\">\n",
              "      <th></th>\n",
              "      <th>code</th>\n",
              "      <th>url</th>\n",
              "      <th>creator</th>\n",
              "      <th>created_t</th>\n",
              "      <th>created_datetime</th>\n",
              "      <th>last_modified_t</th>\n",
              "      <th>last_modified_datetime</th>\n",
              "      <th>product_name</th>\n",
              "      <th>generic_name</th>\n",
              "      <th>quantity</th>\n",
              "      <th>...</th>\n",
              "      <th>ph_100g</th>\n",
              "      <th>fruits-vegetables-nuts_100g</th>\n",
              "      <th>collagen-meat-protein-ratio_100g</th>\n",
              "      <th>cocoa_100g</th>\n",
              "      <th>chlorophyl_100g</th>\n",
              "      <th>carbon-footprint_100g</th>\n",
              "      <th>nutrition-score-fr_100g</th>\n",
              "      <th>nutrition-score-uk_100g</th>\n",
              "      <th>glycemic-index_100g</th>\n",
              "      <th>water-hardness_100g</th>\n",
              "    </tr>\n",
              "  </thead>\n",
              "  <tbody>\n",
              "    <tr>\n",
              "      <th>0</th>\n",
              "      <td>False</td>\n",
              "      <td>False</td>\n",
              "      <td>False</td>\n",
              "      <td>False</td>\n",
              "      <td>False</td>\n",
              "      <td>False</td>\n",
              "      <td>False</td>\n",
              "      <td>False</td>\n",
              "      <td>True</td>\n",
              "      <td>False</td>\n",
              "      <td>...</td>\n",
              "      <td>True</td>\n",
              "      <td>True</td>\n",
              "      <td>True</td>\n",
              "      <td>True</td>\n",
              "      <td>True</td>\n",
              "      <td>True</td>\n",
              "      <td>True</td>\n",
              "      <td>True</td>\n",
              "      <td>True</td>\n",
              "      <td>True</td>\n",
              "    </tr>\n",
              "    <tr>\n",
              "      <th>1</th>\n",
              "      <td>False</td>\n",
              "      <td>False</td>\n",
              "      <td>False</td>\n",
              "      <td>False</td>\n",
              "      <td>False</td>\n",
              "      <td>False</td>\n",
              "      <td>False</td>\n",
              "      <td>False</td>\n",
              "      <td>True</td>\n",
              "      <td>True</td>\n",
              "      <td>...</td>\n",
              "      <td>True</td>\n",
              "      <td>True</td>\n",
              "      <td>True</td>\n",
              "      <td>True</td>\n",
              "      <td>True</td>\n",
              "      <td>True</td>\n",
              "      <td>False</td>\n",
              "      <td>False</td>\n",
              "      <td>True</td>\n",
              "      <td>True</td>\n",
              "    </tr>\n",
              "    <tr>\n",
              "      <th>2</th>\n",
              "      <td>False</td>\n",
              "      <td>False</td>\n",
              "      <td>False</td>\n",
              "      <td>False</td>\n",
              "      <td>False</td>\n",
              "      <td>False</td>\n",
              "      <td>False</td>\n",
              "      <td>False</td>\n",
              "      <td>True</td>\n",
              "      <td>True</td>\n",
              "      <td>...</td>\n",
              "      <td>True</td>\n",
              "      <td>True</td>\n",
              "      <td>True</td>\n",
              "      <td>True</td>\n",
              "      <td>True</td>\n",
              "      <td>True</td>\n",
              "      <td>False</td>\n",
              "      <td>False</td>\n",
              "      <td>True</td>\n",
              "      <td>True</td>\n",
              "    </tr>\n",
              "    <tr>\n",
              "      <th>3</th>\n",
              "      <td>False</td>\n",
              "      <td>False</td>\n",
              "      <td>False</td>\n",
              "      <td>False</td>\n",
              "      <td>False</td>\n",
              "      <td>False</td>\n",
              "      <td>False</td>\n",
              "      <td>False</td>\n",
              "      <td>True</td>\n",
              "      <td>True</td>\n",
              "      <td>...</td>\n",
              "      <td>True</td>\n",
              "      <td>True</td>\n",
              "      <td>True</td>\n",
              "      <td>True</td>\n",
              "      <td>True</td>\n",
              "      <td>True</td>\n",
              "      <td>False</td>\n",
              "      <td>False</td>\n",
              "      <td>True</td>\n",
              "      <td>True</td>\n",
              "    </tr>\n",
              "    <tr>\n",
              "      <th>4</th>\n",
              "      <td>False</td>\n",
              "      <td>False</td>\n",
              "      <td>False</td>\n",
              "      <td>False</td>\n",
              "      <td>False</td>\n",
              "      <td>False</td>\n",
              "      <td>False</td>\n",
              "      <td>False</td>\n",
              "      <td>True</td>\n",
              "      <td>True</td>\n",
              "      <td>...</td>\n",
              "      <td>True</td>\n",
              "      <td>True</td>\n",
              "      <td>True</td>\n",
              "      <td>True</td>\n",
              "      <td>True</td>\n",
              "      <td>True</td>\n",
              "      <td>True</td>\n",
              "      <td>True</td>\n",
              "      <td>True</td>\n",
              "      <td>True</td>\n",
              "    </tr>\n",
              "    <tr>\n",
              "      <th>...</th>\n",
              "      <td>...</td>\n",
              "      <td>...</td>\n",
              "      <td>...</td>\n",
              "      <td>...</td>\n",
              "      <td>...</td>\n",
              "      <td>...</td>\n",
              "      <td>...</td>\n",
              "      <td>...</td>\n",
              "      <td>...</td>\n",
              "      <td>...</td>\n",
              "      <td>...</td>\n",
              "      <td>...</td>\n",
              "      <td>...</td>\n",
              "      <td>...</td>\n",
              "      <td>...</td>\n",
              "      <td>...</td>\n",
              "      <td>...</td>\n",
              "      <td>...</td>\n",
              "      <td>...</td>\n",
              "      <td>...</td>\n",
              "      <td>...</td>\n",
              "    </tr>\n",
              "    <tr>\n",
              "      <th>320767</th>\n",
              "      <td>False</td>\n",
              "      <td>False</td>\n",
              "      <td>False</td>\n",
              "      <td>False</td>\n",
              "      <td>False</td>\n",
              "      <td>False</td>\n",
              "      <td>False</td>\n",
              "      <td>False</td>\n",
              "      <td>True</td>\n",
              "      <td>False</td>\n",
              "      <td>...</td>\n",
              "      <td>True</td>\n",
              "      <td>True</td>\n",
              "      <td>True</td>\n",
              "      <td>True</td>\n",
              "      <td>True</td>\n",
              "      <td>True</td>\n",
              "      <td>True</td>\n",
              "      <td>True</td>\n",
              "      <td>True</td>\n",
              "      <td>True</td>\n",
              "    </tr>\n",
              "    <tr>\n",
              "      <th>320768</th>\n",
              "      <td>False</td>\n",
              "      <td>False</td>\n",
              "      <td>False</td>\n",
              "      <td>False</td>\n",
              "      <td>False</td>\n",
              "      <td>False</td>\n",
              "      <td>False</td>\n",
              "      <td>False</td>\n",
              "      <td>True</td>\n",
              "      <td>True</td>\n",
              "      <td>...</td>\n",
              "      <td>True</td>\n",
              "      <td>True</td>\n",
              "      <td>True</td>\n",
              "      <td>True</td>\n",
              "      <td>True</td>\n",
              "      <td>True</td>\n",
              "      <td>False</td>\n",
              "      <td>False</td>\n",
              "      <td>True</td>\n",
              "      <td>True</td>\n",
              "    </tr>\n",
              "    <tr>\n",
              "      <th>320769</th>\n",
              "      <td>False</td>\n",
              "      <td>False</td>\n",
              "      <td>False</td>\n",
              "      <td>False</td>\n",
              "      <td>False</td>\n",
              "      <td>False</td>\n",
              "      <td>False</td>\n",
              "      <td>False</td>\n",
              "      <td>False</td>\n",
              "      <td>False</td>\n",
              "      <td>...</td>\n",
              "      <td>True</td>\n",
              "      <td>True</td>\n",
              "      <td>True</td>\n",
              "      <td>True</td>\n",
              "      <td>True</td>\n",
              "      <td>True</td>\n",
              "      <td>True</td>\n",
              "      <td>True</td>\n",
              "      <td>True</td>\n",
              "      <td>True</td>\n",
              "    </tr>\n",
              "    <tr>\n",
              "      <th>320770</th>\n",
              "      <td>False</td>\n",
              "      <td>False</td>\n",
              "      <td>False</td>\n",
              "      <td>False</td>\n",
              "      <td>False</td>\n",
              "      <td>False</td>\n",
              "      <td>False</td>\n",
              "      <td>False</td>\n",
              "      <td>True</td>\n",
              "      <td>False</td>\n",
              "      <td>...</td>\n",
              "      <td>True</td>\n",
              "      <td>True</td>\n",
              "      <td>True</td>\n",
              "      <td>True</td>\n",
              "      <td>True</td>\n",
              "      <td>True</td>\n",
              "      <td>True</td>\n",
              "      <td>True</td>\n",
              "      <td>True</td>\n",
              "      <td>True</td>\n",
              "    </tr>\n",
              "    <tr>\n",
              "      <th>320771</th>\n",
              "      <td>False</td>\n",
              "      <td>False</td>\n",
              "      <td>False</td>\n",
              "      <td>False</td>\n",
              "      <td>False</td>\n",
              "      <td>False</td>\n",
              "      <td>False</td>\n",
              "      <td>False</td>\n",
              "      <td>True</td>\n",
              "      <td>True</td>\n",
              "      <td>...</td>\n",
              "      <td>True</td>\n",
              "      <td>True</td>\n",
              "      <td>True</td>\n",
              "      <td>True</td>\n",
              "      <td>True</td>\n",
              "      <td>True</td>\n",
              "      <td>True</td>\n",
              "      <td>True</td>\n",
              "      <td>True</td>\n",
              "      <td>True</td>\n",
              "    </tr>\n",
              "  </tbody>\n",
              "</table>\n",
              "<p>320772 rows × 162 columns</p>\n",
              "</div>\n",
              "      <button class=\"colab-df-convert\" onclick=\"convertToInteractive('df-3bc7de42-d1eb-4ca7-b46a-a1a5c9db73e0')\"\n",
              "              title=\"Convert this dataframe to an interactive table.\"\n",
              "              style=\"display:none;\">\n",
              "        \n",
              "  <svg xmlns=\"http://www.w3.org/2000/svg\" height=\"24px\"viewBox=\"0 0 24 24\"\n",
              "       width=\"24px\">\n",
              "    <path d=\"M0 0h24v24H0V0z\" fill=\"none\"/>\n",
              "    <path d=\"M18.56 5.44l.94 2.06.94-2.06 2.06-.94-2.06-.94-.94-2.06-.94 2.06-2.06.94zm-11 1L8.5 8.5l.94-2.06 2.06-.94-2.06-.94L8.5 2.5l-.94 2.06-2.06.94zm10 10l.94 2.06.94-2.06 2.06-.94-2.06-.94-.94-2.06-.94 2.06-2.06.94z\"/><path d=\"M17.41 7.96l-1.37-1.37c-.4-.4-.92-.59-1.43-.59-.52 0-1.04.2-1.43.59L10.3 9.45l-7.72 7.72c-.78.78-.78 2.05 0 2.83L4 21.41c.39.39.9.59 1.41.59.51 0 1.02-.2 1.41-.59l7.78-7.78 2.81-2.81c.8-.78.8-2.07 0-2.86zM5.41 20L4 18.59l7.72-7.72 1.47 1.35L5.41 20z\"/>\n",
              "  </svg>\n",
              "      </button>\n",
              "      \n",
              "  <style>\n",
              "    .colab-df-container {\n",
              "      display:flex;\n",
              "      flex-wrap:wrap;\n",
              "      gap: 12px;\n",
              "    }\n",
              "\n",
              "    .colab-df-convert {\n",
              "      background-color: #E8F0FE;\n",
              "      border: none;\n",
              "      border-radius: 50%;\n",
              "      cursor: pointer;\n",
              "      display: none;\n",
              "      fill: #1967D2;\n",
              "      height: 32px;\n",
              "      padding: 0 0 0 0;\n",
              "      width: 32px;\n",
              "    }\n",
              "\n",
              "    .colab-df-convert:hover {\n",
              "      background-color: #E2EBFA;\n",
              "      box-shadow: 0px 1px 2px rgba(60, 64, 67, 0.3), 0px 1px 3px 1px rgba(60, 64, 67, 0.15);\n",
              "      fill: #174EA6;\n",
              "    }\n",
              "\n",
              "    [theme=dark] .colab-df-convert {\n",
              "      background-color: #3B4455;\n",
              "      fill: #D2E3FC;\n",
              "    }\n",
              "\n",
              "    [theme=dark] .colab-df-convert:hover {\n",
              "      background-color: #434B5C;\n",
              "      box-shadow: 0px 1px 3px 1px rgba(0, 0, 0, 0.15);\n",
              "      filter: drop-shadow(0px 1px 2px rgba(0, 0, 0, 0.3));\n",
              "      fill: #FFFFFF;\n",
              "    }\n",
              "  </style>\n",
              "\n",
              "      <script>\n",
              "        const buttonEl =\n",
              "          document.querySelector('#df-3bc7de42-d1eb-4ca7-b46a-a1a5c9db73e0 button.colab-df-convert');\n",
              "        buttonEl.style.display =\n",
              "          google.colab.kernel.accessAllowed ? 'block' : 'none';\n",
              "\n",
              "        async function convertToInteractive(key) {\n",
              "          const element = document.querySelector('#df-3bc7de42-d1eb-4ca7-b46a-a1a5c9db73e0');\n",
              "          const dataTable =\n",
              "            await google.colab.kernel.invokeFunction('convertToInteractive',\n",
              "                                                     [key], {});\n",
              "          if (!dataTable) return;\n",
              "\n",
              "          const docLinkHtml = 'Like what you see? Visit the ' +\n",
              "            '<a target=\"_blank\" href=https://colab.research.google.com/notebooks/data_table.ipynb>data table notebook</a>'\n",
              "            + ' to learn more about interactive tables.';\n",
              "          element.innerHTML = '';\n",
              "          dataTable['output_type'] = 'display_data';\n",
              "          await google.colab.output.renderOutput(dataTable, element);\n",
              "          const docLink = document.createElement('div');\n",
              "          docLink.innerHTML = docLinkHtml;\n",
              "          element.appendChild(docLink);\n",
              "        }\n",
              "      </script>\n",
              "    </div>\n",
              "  </div>\n",
              "  "
            ]
          },
          "metadata": {},
          "execution_count": 12
        }
      ]
    },
    {
      "cell_type": "markdown",
      "source": [
        "Quantifier le nombre de lignes nulles"
      ],
      "metadata": {
        "id": "OyJ0tv2LJWNK"
      }
    },
    {
      "cell_type": "code",
      "source": [
        "df.isna().sum()"
      ],
      "metadata": {
        "colab": {
          "base_uri": "https://localhost:8080/"
        },
        "id": "6vmj_1diKB06",
        "outputId": "6ecec6c3-f81c-4638-f090-316a5df02eab"
      },
      "execution_count": null,
      "outputs": [
        {
          "output_type": "execute_result",
          "data": {
            "text/plain": [
              "code                           23\n",
              "url                            23\n",
              "creator                         2\n",
              "created_t                       3\n",
              "created_datetime                9\n",
              "                            ...  \n",
              "carbon-footprint_100g      320504\n",
              "nutrition-score-fr_100g     99562\n",
              "nutrition-score-uk_100g     99562\n",
              "glycemic-index_100g        320772\n",
              "water-hardness_100g        320772\n",
              "Length: 162, dtype: int64"
            ]
          },
          "metadata": {},
          "execution_count": 13
        }
      ]
    },
    {
      "cell_type": "markdown",
      "source": [
        "TODO psedo code \n",
        "for col in df.columns:\n",
        "    \n",
        "        if  col.headname()  == '100g' \n",
        "          df['col'].fillna(value=df['col'].mean(), inplace=True)\n",
        "\n",
        "\n",
        "          for col in df.columns:\n",
        "  if '100g' in col:\n",
        "    df[col].fillna(...)\n",
        "\n",
        "numeric_cols = ['energy_100g', 'fat_100g']\n",
        "\n",
        "# Soit on applique a un groupe de colonnes.\n",
        "df[numeric_cols] = pd.to_numeric(df[numeric_cols], errors='coerce')\n",
        "\n",
        "# Soit on itère et on applique colonne par colonne.\n",
        "for col in numeric_cols:\n",
        "  df[col] = pd.to_numeric(df[col], errors='coerce')"
      ],
      "metadata": {
        "id": "HaqcIhE0DE6S"
      }
    },
    {
      "cell_type": "code",
      "source": [
        "\n",
        "\n",
        "df['energy_100g'].fillna(value=df['energy_100g'].mean(), inplace=True)\n",
        "df['energy-from-fat_100g'].fillna(value=df['energy-from-fat_100g'].mean(), inplace=True)\n",
        "df['fat_100g'].fillna(value=df['fat_100g'].mean(), inplace=True)\n",
        "df['saturated-fat_100g'].fillna(value=df['saturated-fat_100g'].mean(), inplace=True)\n",
        "df['butyric-acid_100g'].fillna(value=df['butyric-acid_100g'].mean(), inplace=True)\n",
        "df['caproic-acid_100g'].fillna(value=df['caproic-acid_100g'].mean(), inplace=True)\n",
        "df['caprylic-acid_100g'].fillna(value=df['caprylic-acid_100g'].mean(), inplace=True)\n",
        "df['capric-acid_100g'].fillna(value=df['capric-acid_100g'].mean(), inplace=True)\n",
        "df['lauric-acid_100g'].fillna(value=df['lauric-acid_100g'].mean(), inplace=True)\n",
        "df['myristic-acid_100g'].fillna(value=df['myristic-acid_100g'].mean(), inplace=True)\n",
        "df['palmitic-acid_100g'].fillna(value=df['palmitic-acid_100g'].mean(), inplace=True)\n",
        "df['stearic-acid_100g'].fillna(value=df['stearic-acid_100g'].mean(), inplace=True)\n",
        "df['arachidic-acid_100g'].fillna(value=df['arachidic-acid_100g'].mean(), inplace=True)\n",
        "df['behenic-acid_100g'].fillna(value=df['behenic-acid_100g'].mean(), inplace=True)\n",
        "df['lignoceric-acid_100g'].fillna(value=df['lignoceric-acid_100g'].mean(), inplace=True)\n",
        "df['cerotic-acid_100g'].fillna(value=df['cerotic-acid_100g'].mean(), inplace=True)\n",
        "df['montanic-acid_100g'].fillna(value=df['montanic-acid_100g'].mean(), inplace=True)\n",
        "df['melissic-acid_100g'].fillna(value=df['melissic-acid_100g'].mean(), inplace=True)\n",
        "df['monounsaturated-fat_100g'].fillna(value=df['monounsaturated-fat_100g'].mean(), inplace=True)\n",
        "df['polyunsaturated-fat_100g'].fillna(value=df['polyunsaturated-fat_100g'].mean(), inplace=True)\n",
        "df['omega-3-fat_100g'].fillna(value=df['omega-3-fat_100g'].mean(), inplace=True)\n",
        "df['alpha-linolenic-acid_100g'].fillna(value=df['alpha-linolenic-acid_100g'].mean(), inplace=True)\n",
        "df['eicosapentaenoic-acid_100g'].fillna(value=df['eicosapentaenoic-acid_100g'].mean(), inplace=True)\n",
        "df['docosahexaenoic-acid_100g'].fillna(value=df['docosahexaenoic-acid_100g'].mean(), inplace=True)\n",
        "df['omega-6-fat_100g'].fillna(value=df['omega-6-fat_100g'].mean(), inplace=True)\n",
        "df['linoleic-acid_100g'].fillna(value=df['linoleic-acid_100g'].mean(), inplace=True)\n",
        "df['arachidonic-acid_100g'].fillna(value=df['arachidonic-acid_100g'].mean(), inplace=True)\n",
        "df['gamma-linolenic-acid_100g'].fillna(value=df['gamma-linolenic-acid_100g'].mean(), inplace=True)\n",
        "df['dihomo-gamma-linolenic-acid_100g'].fillna(value=df['dihomo-gamma-linolenic-acid_100g'].mean(), inplace=True)\n",
        "df['omega-9-fat_100g'].fillna(value=df['omega-9-fat_100g'].mean(), inplace=True)\n",
        "df['oleic-acid_100g'].fillna(value=df['oleic-acid_100g'].mean(), inplace=True)\n",
        "df['elaidic-acid_100g'].fillna(value=df['elaidic-acid_100g'].mean(), inplace=True)\n",
        "df['gondoic-acid_100g'].fillna(value=df['gondoic-acid_100g'].mean(), inplace=True)\n",
        "df['mead-acid_100g'].fillna(value=df['mead-acid_100g'].mean(), inplace=True)\n",
        "df['erucic-acid_100g'].fillna(value=df['erucic-acid_100g'].mean(), inplace=True)\n",
        "df['nervonic-acid_100g'].fillna(value=df['nervonic-acid_100g'].mean(), inplace=True)\n",
        "df['trans-fat_100g'].fillna(value=df['trans-fat_100g'].mean(), inplace=True)\n",
        "df['cholesterol_100g'].fillna(value=df['cholesterol_100g'].mean(), inplace=True)\n",
        "df['carbohydrates_100g'].fillna(value=df['carbohydrates_100g'].mean(), inplace=True)\n",
        "df['sugars_100g'].fillna(value=df['sugars_100g'].mean(), inplace=True)\n",
        "df['sucrose_100g'].fillna(value=df['sucrose_100g'].mean(), inplace=True)\n",
        "df['glucose_100g'].fillna(value=df['glucose_100g'].mean(), inplace=True)\n",
        "df['fructose_100g'].fillna(value=df['fructose_100g'].mean(), inplace=True)\n",
        "df['lactose_100g'].fillna(value=df['lactose_100g'].mean(), inplace=True)\n",
        "df['maltose_100g'].fillna(value=df['maltose_100g'].mean(), inplace=True)\n",
        "df['maltodextrins_100g'].fillna(value=df['maltodextrins_100g'].mean(), inplace=True)\n",
        "df['starch_100g'].fillna(value=df['starch_100g'].mean(), inplace=True)\n",
        "df['polyols_100g'].fillna(value=df['polyols_100g'].mean(), inplace=True)\n",
        "df['fiber_100g'].fillna(value=df['fiber_100g'].mean(), inplace=True)\n",
        "df['proteins_100g'].fillna(value=df['proteins_100g'].mean(), inplace=True)\n",
        "df['casein_100g'].fillna(value=df['casein_100g'].mean(), inplace=True)\n",
        "df['serum-proteins_100g'].fillna(value=df['serum-proteins_100g'].mean(), inplace=True)\n",
        "df['nucleotides_100g'].fillna(value=df['nucleotides_100g'].mean(), inplace=True)\n",
        "df['salt_100g'].fillna(value=df['salt_100g'].mean(), inplace=True)\n",
        "df['sodium_100g'].fillna(value=df['sodium_100g'].mean(), inplace=True)\n",
        "df['alcohol_100g'].fillna(value=df['alcohol_100g'].mean(), inplace=True)\n",
        "df['vitamin-a_100g'].fillna(value=df['vitamin-a_100g'].mean(), inplace=True)\n",
        "df['beta-carotene_100g'].fillna(value=df['beta-carotene_100g'].mean(), inplace=True)\n",
        "df['vitamin-d_100g'].fillna(value=df['vitamin-d_100g'].mean(), inplace=True)\n",
        "df['vitamin-e_100g'].fillna(value=df['vitamin-e_100g'].mean(), inplace=True)\n",
        "df['vitamin-k_100g'].fillna(value=df['vitamin-k_100g'].mean(), inplace=True)\n",
        "df['vitamin-c_100g'].fillna(value=df['vitamin-c_100g'].mean(), inplace=True)\n",
        "df['vitamin-b1_100g'].fillna(value=df['vitamin-b1_100g'].mean(), inplace=True)\n",
        "df['vitamin-b2_100g'].fillna(value=df['vitamin-b2_100g'].mean(), inplace=True)\n",
        "df['vitamin-pp_100g'].fillna(value=df['vitamin-pp_100g'].mean(), inplace=True)\n",
        "df['vitamin-b6_100g'].fillna(value=df['vitamin-b6_100g'].mean(), inplace=True)\n",
        "df['vitamin-b9_100g'].fillna(value=df['vitamin-b9_100g'].mean(), inplace=True)\n",
        "df['folates_100g'].fillna(value=df['folates_100g'].mean(), inplace=True)\n",
        "df['vitamin-b12_100g'].fillna(value=df['vitamin-b12_100g'].mean(), inplace=True)\n",
        "df['biotin_100g'].fillna(value=df['biotin_100g'].mean(), inplace=True)\n",
        "df['pantothenic-acid_100g'].fillna(value=df['pantothenic-acid_100g'].mean(), inplace=True)\n",
        "df['silica_100g'].fillna(value=df['silica_100g'].mean(), inplace=True)\n",
        "df['bicarbonate_100g'].fillna(value=df['bicarbonate_100g'].mean(), inplace=True)\n",
        "df['potassium_100g'].fillna(value=df['potassium_100g'].mean(), inplace=True)\n",
        "df['chloride_100g'].fillna(value=df['chloride_100g'].mean(), inplace=True)\n",
        "df['calcium_100g'].fillna(value=df['calcium_100g'].mean(), inplace=True)\n",
        "df['phosphorus_100g'].fillna(value=df['phosphorus_100g'].mean(), inplace=True)\n",
        "df['iron_100g'].fillna(value=df['iron_100g'].mean(), inplace=True)\n",
        "df['magnesium_100g'].fillna(value=df['magnesium_100g'].mean(), inplace=True)\n",
        "df['zinc_100g'].fillna(value=df['zinc_100g'].mean(), inplace=True)\n",
        "df['copper_100g'].fillna(value=df['copper_100g'].mean(), inplace=True)\n",
        "df['manganese_100g'].fillna(value=df['manganese_100g'].mean(), inplace=True)\n",
        "df['fluoride_100g'].fillna(value=df['fluoride_100g'].mean(), inplace=True)\n",
        "df['selenium_100g'].fillna(value=df['selenium_100g'].mean(), inplace=True)\n",
        "df['chromium_100g'].fillna(value=df['chromium_100g'].mean(), inplace=True)\n",
        "df['molybdenum_100g'].fillna(value=df['molybdenum_100g'].mean(), inplace=True)\n",
        "df['iodine_100g'].fillna(value=df['iodine_100g'].mean(), inplace=True)\n",
        "df['caffeine_100g'].fillna(value=df['caffeine_100g'].mean(), inplace=True)\n",
        "df['taurine_100g'].fillna(value=df['taurine_100g'].mean(), inplace=True)\n",
        "df['ph_100g'].fillna(value=df['ph_100g'].mean(), inplace=True)\n",
        "df['fruits-vegetables-nuts_100g'].fillna(value=df['fruits-vegetables-nuts_100g'].mean(), inplace=True)\n",
        "df['collagen-meat-protein-ratio_100g'].fillna(value=df['collagen-meat-protein-ratio_100g'].mean(), inplace=True)\n",
        "df['cocoa_100g'].fillna(value=df['cocoa_100g'].mean(), inplace=True)\n",
        "df['chlorophyl_100g'].fillna(value=df['chlorophyl_100g'].mean(), inplace=True)\n",
        "df['carbon-footprint_100g'].fillna(value=df['carbon-footprint_100g'].mean(), inplace=True)\n",
        "df['nutrition-score-fr_100g'].fillna(value=df['nutrition-score-fr_100g'].mean(), inplace=True)\n",
        "df['nutrition-score-uk_100g'].fillna(value=df['nutrition-score-uk_100g'].mean(), inplace=True)\n",
        "df['glycemic-index_100g'].fillna(value=df['glycemic-index_100g'].mean(), inplace=True)\n",
        "df['water-hardness_100g'].fillna(value=df['water-hardness_100g'].mean(), inplace=True)"
      ],
      "metadata": {
        "id": "_utappa4KFxQ"
      },
      "execution_count": null,
      "outputs": []
    },
    {
      "cell_type": "markdown",
      "source": [
        ""
      ],
      "metadata": {
        "id": "MawGIftMEAbe"
      }
    },
    {
      "cell_type": "code",
      "execution_count": null,
      "metadata": {
        "id": "i8fFRk_KKgrN"
      },
      "outputs": [],
      "source": [
        "# Suppressions des colonnes contenant au moins de 80% de valeur non vide \n",
        "clean_data = filter_col_rate_notna(original_data,rate_na_row_min=0.8)\n",
        "# Suppressions des lignes sans données.\n",
        "clean_data.dropna(how='all',inplace=True)"
      ]
    },
    {
      "cell_type": "code",
      "execution_count": null,
      "metadata": {
        "colab": {
          "base_uri": "https://localhost:8080/",
          "height": 96
        },
        "id": "kqZnax9rL9Zr",
        "outputId": "d6e6daf6-41e0-4b47-ca9e-32d3eebadb04"
      },
      "outputs": [
        {
          "output_type": "stream",
          "name": "stdout",
          "text": [
            "Liste des lignes totalement dupliquées :\n"
          ]
        },
        {
          "output_type": "execute_result",
          "data": {
            "text/plain": [
              "Empty DataFrame\n",
              "Columns: [code, url, creator, created_t, created_datetime, last_modified_t, last_modified_datetime, product_name, quantity, packaging, packaging_tags, brands, brands_tags, categories, categories_tags, categories_fr, countries, countries_tags, countries_fr, ingredients_text, serving_size, additives_n, additives, additives_tags, additives_fr, ingredients_from_palm_oil_n, ingredients_that_may_be_from_palm_oil_n, nutrition_grade_fr, pnns_groups_1, pnns_groups_2, states, states_tags, states_fr, main_category, main_category_fr, image_url, image_small_url, energy_100g, energy-from-fat_100g, fat_100g, saturated-fat_100g, caprylic-acid_100g, capric-acid_100g, lauric-acid_100g, myristic-acid_100g, palmitic-acid_100g, stearic-acid_100g, arachidic-acid_100g, behenic-acid_100g, montanic-acid_100g, monounsaturated-fat_100g, polyunsaturated-fat_100g, omega-3-fat_100g, alpha-linolenic-acid_100g, eicosapentaenoic-acid_100g, docosahexaenoic-acid_100g, omega-6-fat_100g, linoleic-acid_100g, arachidonic-acid_100g, gamma-linolenic-acid_100g, dihomo-gamma-linolenic-acid_100g, omega-9-fat_100g, oleic-acid_100g, gondoic-acid_100g, trans-fat_100g, cholesterol_100g, carbohydrates_100g, sugars_100g, sucrose_100g, glucose_100g, fructose_100g, lactose_100g, maltose_100g, maltodextrins_100g, starch_100g, polyols_100g, fiber_100g, proteins_100g, casein_100g, serum-proteins_100g, nucleotides_100g, salt_100g, sodium_100g, alcohol_100g, vitamin-a_100g, beta-carotene_100g, vitamin-d_100g, vitamin-e_100g, vitamin-k_100g, vitamin-c_100g, vitamin-b1_100g, vitamin-b2_100g, vitamin-pp_100g, vitamin-b6_100g, vitamin-b9_100g, folates_100g, vitamin-b12_100g, biotin_100g, pantothenic-acid_100g, silica_100g, ...]\n",
              "Index: []\n",
              "\n",
              "[0 rows x 124 columns]"
            ],
            "text/html": [
              "\n",
              "  <div id=\"df-5602d88a-be9a-4461-a3d5-80e608cd782f\">\n",
              "    <div class=\"colab-df-container\">\n",
              "      <div>\n",
              "<style scoped>\n",
              "    .dataframe tbody tr th:only-of-type {\n",
              "        vertical-align: middle;\n",
              "    }\n",
              "\n",
              "    .dataframe tbody tr th {\n",
              "        vertical-align: top;\n",
              "    }\n",
              "\n",
              "    .dataframe thead th {\n",
              "        text-align: right;\n",
              "    }\n",
              "</style>\n",
              "<table border=\"1\" class=\"dataframe\">\n",
              "  <thead>\n",
              "    <tr style=\"text-align: right;\">\n",
              "      <th></th>\n",
              "      <th>code</th>\n",
              "      <th>url</th>\n",
              "      <th>creator</th>\n",
              "      <th>created_t</th>\n",
              "      <th>created_datetime</th>\n",
              "      <th>last_modified_t</th>\n",
              "      <th>last_modified_datetime</th>\n",
              "      <th>product_name</th>\n",
              "      <th>quantity</th>\n",
              "      <th>packaging</th>\n",
              "      <th>...</th>\n",
              "      <th>iodine_100g</th>\n",
              "      <th>caffeine_100g</th>\n",
              "      <th>taurine_100g</th>\n",
              "      <th>ph_100g</th>\n",
              "      <th>fruits-vegetables-nuts_100g</th>\n",
              "      <th>collagen-meat-protein-ratio_100g</th>\n",
              "      <th>cocoa_100g</th>\n",
              "      <th>carbon-footprint_100g</th>\n",
              "      <th>nutrition-score-fr_100g</th>\n",
              "      <th>nutrition-score-uk_100g</th>\n",
              "    </tr>\n",
              "  </thead>\n",
              "  <tbody>\n",
              "  </tbody>\n",
              "</table>\n",
              "<p>0 rows × 124 columns</p>\n",
              "</div>\n",
              "      <button class=\"colab-df-convert\" onclick=\"convertToInteractive('df-5602d88a-be9a-4461-a3d5-80e608cd782f')\"\n",
              "              title=\"Convert this dataframe to an interactive table.\"\n",
              "              style=\"display:none;\">\n",
              "        \n",
              "  <svg xmlns=\"http://www.w3.org/2000/svg\" height=\"24px\"viewBox=\"0 0 24 24\"\n",
              "       width=\"24px\">\n",
              "    <path d=\"M0 0h24v24H0V0z\" fill=\"none\"/>\n",
              "    <path d=\"M18.56 5.44l.94 2.06.94-2.06 2.06-.94-2.06-.94-.94-2.06-.94 2.06-2.06.94zm-11 1L8.5 8.5l.94-2.06 2.06-.94-2.06-.94L8.5 2.5l-.94 2.06-2.06.94zm10 10l.94 2.06.94-2.06 2.06-.94-2.06-.94-.94-2.06-.94 2.06-2.06.94z\"/><path d=\"M17.41 7.96l-1.37-1.37c-.4-.4-.92-.59-1.43-.59-.52 0-1.04.2-1.43.59L10.3 9.45l-7.72 7.72c-.78.78-.78 2.05 0 2.83L4 21.41c.39.39.9.59 1.41.59.51 0 1.02-.2 1.41-.59l7.78-7.78 2.81-2.81c.8-.78.8-2.07 0-2.86zM5.41 20L4 18.59l7.72-7.72 1.47 1.35L5.41 20z\"/>\n",
              "  </svg>\n",
              "      </button>\n",
              "      \n",
              "  <style>\n",
              "    .colab-df-container {\n",
              "      display:flex;\n",
              "      flex-wrap:wrap;\n",
              "      gap: 12px;\n",
              "    }\n",
              "\n",
              "    .colab-df-convert {\n",
              "      background-color: #E8F0FE;\n",
              "      border: none;\n",
              "      border-radius: 50%;\n",
              "      cursor: pointer;\n",
              "      display: none;\n",
              "      fill: #1967D2;\n",
              "      height: 32px;\n",
              "      padding: 0 0 0 0;\n",
              "      width: 32px;\n",
              "    }\n",
              "\n",
              "    .colab-df-convert:hover {\n",
              "      background-color: #E2EBFA;\n",
              "      box-shadow: 0px 1px 2px rgba(60, 64, 67, 0.3), 0px 1px 3px 1px rgba(60, 64, 67, 0.15);\n",
              "      fill: #174EA6;\n",
              "    }\n",
              "\n",
              "    [theme=dark] .colab-df-convert {\n",
              "      background-color: #3B4455;\n",
              "      fill: #D2E3FC;\n",
              "    }\n",
              "\n",
              "    [theme=dark] .colab-df-convert:hover {\n",
              "      background-color: #434B5C;\n",
              "      box-shadow: 0px 1px 3px 1px rgba(0, 0, 0, 0.15);\n",
              "      filter: drop-shadow(0px 1px 2px rgba(0, 0, 0, 0.3));\n",
              "      fill: #FFFFFF;\n",
              "    }\n",
              "  </style>\n",
              "\n",
              "      <script>\n",
              "        const buttonEl =\n",
              "          document.querySelector('#df-5602d88a-be9a-4461-a3d5-80e608cd782f button.colab-df-convert');\n",
              "        buttonEl.style.display =\n",
              "          google.colab.kernel.accessAllowed ? 'block' : 'none';\n",
              "\n",
              "        async function convertToInteractive(key) {\n",
              "          const element = document.querySelector('#df-5602d88a-be9a-4461-a3d5-80e608cd782f');\n",
              "          const dataTable =\n",
              "            await google.colab.kernel.invokeFunction('convertToInteractive',\n",
              "                                                     [key], {});\n",
              "          if (!dataTable) return;\n",
              "\n",
              "          const docLinkHtml = 'Like what you see? Visit the ' +\n",
              "            '<a target=\"_blank\" href=https://colab.research.google.com/notebooks/data_table.ipynb>data table notebook</a>'\n",
              "            + ' to learn more about interactive tables.';\n",
              "          element.innerHTML = '';\n",
              "          dataTable['output_type'] = 'display_data';\n",
              "          await google.colab.output.renderOutput(dataTable, element);\n",
              "          const docLink = document.createElement('div');\n",
              "          docLink.innerHTML = docLinkHtml;\n",
              "          element.appendChild(docLink);\n",
              "        }\n",
              "      </script>\n",
              "    </div>\n",
              "  </div>\n",
              "  "
            ]
          },
          "metadata": {},
          "execution_count": 19
        }
      ],
      "source": [
        "print(\"Liste des lignes totalement dupliquées :\")\n",
        "clean_data[clean_data.duplicated(keep=False)]"
      ]
    },
    {
      "cell_type": "code",
      "execution_count": null,
      "metadata": {
        "colab": {
          "base_uri": "https://localhost:8080/"
        },
        "id": "ILNTY760NaXJ",
        "outputId": "ffa3a606-7172-4660-b090-33a3840588fb"
      },
      "outputs": [
        {
          "output_type": "stream",
          "name": "stdout",
          "text": [
            "Nombre de lignes supprimées: 17762\n",
            "Nombre de colonnes supprimées: 38\n",
            "Colonnes supprimées: ['generic_name', 'origins', 'origins_tags', 'manufacturing_places', 'manufacturing_places_tags', 'labels', 'labels_tags', 'labels_fr', 'emb_codes', 'emb_codes_tags', 'first_packaging_code_geo', 'cities', 'cities_tags', 'purchase_places', 'stores', 'allergens', 'allergens_fr', 'traces', 'traces_tags', 'traces_fr', 'no_nutriments', 'ingredients_from_palm_oil', 'ingredients_from_palm_oil_tags', 'ingredients_that_may_be_from_palm_oil', 'ingredients_that_may_be_from_palm_oil_tags', 'nutrition_grade_uk', 'butyric-acid_100g', 'caproic-acid_100g', 'lignoceric-acid_100g', 'cerotic-acid_100g', 'melissic-acid_100g', 'elaidic-acid_100g', 'mead-acid_100g', 'erucic-acid_100g', 'nervonic-acid_100g', 'chlorophyl_100g', 'glycemic-index_100g', 'water-hardness_100g']\n",
            "\n",
            "Nouvelle dimensions du jeu de données: (303010, 124)\n"
          ]
        }
      ],
      "source": [
        "# Supp  lignes dupliquées \n",
        "clean_data.drop_duplicates(keep=\"first\", inplace=True)\n",
        "# Supp lignes  vide\n",
        "clean_data = clean_data[clean_data[\"product_name\"].notna()]\n",
        "end_row,end_col= clean_data.shape\n",
        "print(\"Nombre de lignes supprimées:\",start_row - end_row)\n",
        "print(\"Nombre de colonnes supprimées:\",start_col - end_col)\n",
        "print(\"Colonnes supprimées:\",[col for col in original_data\n",
        "                                  if col not in clean_data])\n",
        "print(\"\\nNouvelle dimensions du jeu de données:\",clean_data.shape)"
      ]
    },
    {
      "cell_type": "code",
      "execution_count": null,
      "metadata": {
        "id": "6X8k9TswfUDk"
      },
      "outputs": [],
      "source": [
        "#carte de chaleur\n",
        "def plot_heatmap(data,xlabel,ylabel,title,\n",
        "                 colorbar_display=False,label_colorbar=\"Répartition\",fmt=\"f\",annot=True,linewidths=.1):\n",
        "    plt.figure(figsize=(15,10))\n",
        "    if annot:\n",
        "        ax = sns.heatmap(data,linewidths=linewidths,annot=annot,fmt=fmt,cbar=colorbar_display)\n",
        "    else:\n",
        "        ax = sns.heatmap(data,linewidths=linewidths,annot=annot,cbar=colorbar_display)\n",
        "        \n",
        "    ax.set_xlabel(xlabel)\n",
        "    ax.set_ylabel(ylabel)\n",
        "    ax.set_title(title)\n",
        "    if colorbar_display:\n",
        "        ax.collections[0].colorbar.set_label(label_colorbar)\n",
        "    plt.show()\n"
      ]
    },
    {
      "cell_type": "code",
      "source": [
        "df.nunique()"
      ],
      "metadata": {
        "colab": {
          "base_uri": "https://localhost:8080/"
        },
        "id": "VN15A9QQyJZJ",
        "outputId": "61b5d3f4-60c5-40ac-f70c-0158daf6e666"
      },
      "execution_count": null,
      "outputs": [
        {
          "output_type": "execute_result",
          "data": {
            "text/plain": [
              "code                       52773\n",
              "url                        52773\n",
              "creator                     2029\n",
              "created_t                  52729\n",
              "created_datetime           52722\n",
              "                           ...  \n",
              "carbon-footprint_100g        148\n",
              "nutrition-score-fr_100g       54\n",
              "nutrition-score-uk_100g       52\n",
              "glycemic-index_100g            0\n",
              "water-hardness_100g            0\n",
              "Length: 162, dtype: int64"
            ]
          },
          "metadata": {},
          "execution_count": 37
        }
      ]
    },
    {
      "cell_type": "code",
      "execution_count": null,
      "metadata": {
        "colab": {
          "base_uri": "https://localhost:8080/",
          "height": 815
        },
        "id": "Fi4Ffvl2RJ2h",
        "outputId": "c25503be-e5a7-4421-cd48-cb6346f78dd1"
      },
      "outputs": [
        {
          "output_type": "display_data",
          "data": {
            "text/plain": [
              "<Figure size 1080x720 with 2 Axes>"
            ],
            "image/png": "[encoded data removed]"
          },
          "metadata": {
            "needs_background": "light"
          }
        }
      ],
      "source": [
        "plot_heatmap(clean_data.isna(),\n",
        "             \"Colonnes\",\n",
        "             \"Lignes\",\n",
        "             \"Visualisation des lignes manquantes\",\n",
        "             colorbar_display=True,\n",
        "             label_colorbar=\"Classification des lignes (0 non vide / 1 vide)\",\n",
        "             annot=False,\n",
        "            linewidths=0)"
      ]
    },
    {
      "cell_type": "markdown",
      "metadata": {
        "id": "nyz_K6lCziUw"
      },
      "source": [
        "##Doublons\n",
        "On commence par uniformiser la colonne product_name (lowercase) pour ne pas passer à coté de doublons sur des syntaxes différentes puis on analyse les doublons pour appliquer une stratégie afin de les supprimer"
      ]
    },
    {
      "cell_type": "markdown",
      "source": [
        "Afficher les valeur dupliquer"
      ],
      "metadata": {
        "id": "AS-pHcGiFsd0"
      }
    },
    {
      "cell_type": "code",
      "source": [
        "df.duplicated(keep=False)"
      ],
      "metadata": {
        "colab": {
          "base_uri": "https://localhost:8080/"
        },
        "id": "q0LHpGSsi_q3",
        "outputId": "68cc06a1-6670-4612-81f5-431ff1ee98e4"
      },
      "execution_count": null,
      "outputs": [
        {
          "output_type": "execute_result",
          "data": {
            "text/plain": [
              "0         False\n",
              "1         False\n",
              "2         False\n",
              "3         False\n",
              "4         False\n",
              "          ...  \n",
              "320767    False\n",
              "320768    False\n",
              "320769    False\n",
              "320770    False\n",
              "320771    False\n",
              "Length: 320772, dtype: bool"
            ]
          },
          "metadata": {},
          "execution_count": 30
        }
      ]
    },
    {
      "cell_type": "markdown",
      "source": [
        "Quantifier les valeur dupliquer"
      ],
      "metadata": {
        "id": "vid4aWCnFx-K"
      }
    },
    {
      "cell_type": "code",
      "source": [
        "print(df.isnull().sum().all)"
      ],
      "metadata": {
        "colab": {
          "base_uri": "https://localhost:8080/"
        },
        "id": "iBHRyyeAdBpd",
        "outputId": "6794f609-7c30-4a44-eadc-9712794ec56f"
      },
      "execution_count": null,
      "outputs": [
        {
          "output_type": "stream",
          "name": "stdout",
          "text": [
            "<bound method NDFrame._add_numeric_operations.<locals>.all of code                           23\n",
            "url                            23\n",
            "creator                         2\n",
            "created_t                       3\n",
            "created_datetime                9\n",
            "                            ...  \n",
            "carbon-footprint_100g           0\n",
            "nutrition-score-fr_100g         0\n",
            "nutrition-score-uk_100g         0\n",
            "glycemic-index_100g        320772\n",
            "water-hardness_100g        320772\n",
            "Length: 162, dtype: int64>\n"
          ]
        }
      ]
    },
    {
      "cell_type": "markdown",
      "source": [
        "Drop les valeur dupliquer"
      ],
      "metadata": {
        "id": "pQasoRENHJ0z"
      }
    },
    {
      "cell_type": "code",
      "execution_count": null,
      "metadata": {
        "id": "SBqU9p0hzg6b"
      },
      "outputs": [],
      "source": [
        "df=df.drop_duplicates(keep='first')"
      ]
    },
    {
      "cell_type": "markdown",
      "metadata": {
        "id": "Au56twuhNuJs"
      },
      "source": [
        "###Nettoyage des aberrations"
      ]
    },
    {
      "cell_type": "code",
      "source": [
        ""
      ],
      "metadata": {
        "id": "45vjbp-dHWHQ"
      },
      "execution_count": null,
      "outputs": []
    },
    {
      "cell_type": "markdown",
      "metadata": {
        "id": "LhAYpgUJNxiF"
      },
      "source": [
        "Afficher les datas non null"
      ]
    },
    {
      "cell_type": "code",
      "source": [
        "# Filtered generic_name in fr_openfoodfacts_org_products_2\n",
        "df = df[df['generic_name'].notnull()]\n"
      ],
      "metadata": {
        "id": "QEVm9HSuyT-l"
      },
      "execution_count": null,
      "outputs": []
    },
    {
      "cell_type": "markdown",
      "metadata": {
        "id": "SWPT8PLVP2RM"
      },
      "source": [
        "# Analyse préliminaire"
      ]
    },
    {
      "cell_type": "code",
      "execution_count": null,
      "metadata": {
        "id": "kM50nvUzQFzk"
      },
      "outputs": [],
      "source": [
        ""
      ]
    },
    {
      "cell_type": "markdown",
      "metadata": {
        "id": "yzPQt7DALwkF"
      },
      "source": [
        "La colonne nutriscore_grade contient un total de 257648 lignes et 11268 lignes vides soit moiter  de lignes vides.\n"
      ]
    },
    {
      "cell_type": "markdown",
      "metadata": {
        "id": "OA4lRgKWQGiD"
      },
      "source": [
        ""
      ]
    },
    {
      "cell_type": "code",
      "source": [
        "plt.figure(figsize=(30,18))\n",
        "sns.boxplot(x=\"nutrition-score-fr_100g\", y=\"energy_100g\", data=df)\n"
      ],
      "metadata": {
        "colab": {
          "base_uri": "https://localhost:8080/",
          "height": 1000
        },
        "id": "key7NkSx2GCm",
        "outputId": "b325a499-e4f9-4b16-8c75-e823e05fc690"
      },
      "execution_count": null,
      "outputs": [
        {
          "output_type": "execute_result",
          "data": {
            "text/plain": [
              "<matplotlib.axes._subplots.AxesSubplot at 0x7f14b8342910>"
            ]
          },
          "metadata": {},
          "execution_count": 33
        },
        {
          "output_type": "display_data",
          "data": {
            "text/plain": [
              "<Figure size 2160x1296 with 1 Axes>"
            ],
            "image/png": "[encoded data removed]"
          },
          "metadata": {
            "needs_background": "light"
          }
        }
      ]
    },
    {
      "cell_type": "markdown",
      "source": [
        "grasse a se diagrame on peux remarquer les nutri score au dela de 33 sont aberant on peux apliquer un filtre pour gere aberation."
      ],
      "metadata": {
        "id": "UcL64znr8qTz"
      }
    },
    {
      "cell_type": "markdown",
      "source": [
        "POUR metre en evidance les valeur aberante et les remlacer il faut traiter les valeur numerique  \n"
      ],
      "metadata": {
        "id": "TH0Sq2zMK047"
      }
    },
    {
      "cell_type": "code",
      "source": [
        ""
      ],
      "metadata": {
        "id": "sPYeMmA9tBZ6"
      },
      "execution_count": null,
      "outputs": []
    },
    {
      "cell_type": "code",
      "source": [
        "# Iterative Imputation\n",
        "group1 = ['correlated', 'collumns', 'from', 'group', '1']\n",
        "group2 = ['correlated', 'collumns', 'from', 'group', '2']\n",
        "\n",
        "# Inputing group1\n",
        "iter_imputer_1 = IterativeImputer(random_state=20)\n",
        "iter_imputed_1 = iter_imputer_1.fit_transform(df[group1])\n",
        "df_iter_imputed_1 = pd.DataFrame(iter_imputed_1, columns=group1)\n",
        "\n",
        "# Inputing group2\n",
        "iter_imputer = IterativeImputer(random_state=20)\n",
        "iter_imputed = iter_imputer.fit_transform(df[group2])\n",
        "df_iter_imputed = pd.DataFrame(iter_imputed, columns=group2)"
      ],
      "metadata": {
        "id": "_yJhiceacDl9"
      },
      "execution_count": null,
      "outputs": []
    },
    {
      "cell_type": "code",
      "source": [
        "# Iterative Imputation\n",
        "cont_feats = ['energy_100g']\n",
        "\n",
        "iter_imputer = IterativeImputer(random_state=20)\n",
        "iter_imputed = iter_imputer.fit_transform(df[cont_feats])\n",
        "df_iter_imputed = pd.DataFrame(iter_imputed, columns=cont_feats)"
      ],
      "metadata": {
        "id": "uwbrHpDKa4v6"
      },
      "execution_count": null,
      "outputs": []
    },
    {
      "cell_type": "code",
      "source": [
        "df.isna()"
      ],
      "metadata": {
        "id": "uSBndfisgEPk"
      },
      "execution_count": null,
      "outputs": []
    },
    {
      "cell_type": "code",
      "source": [
        "X = [\n",
        "    df['energy_100g'].astype(float),\n",
        "    df['fat_100g'].astype(float),\n",
        "    df['nutrition-score-fr_100g'].astype(float)\n",
        "    \n",
        "      ]"
      ],
      "metadata": {
        "id": "gSwctA0tF2f5"
      },
      "execution_count": null,
      "outputs": []
    },
    {
      "cell_type": "code",
      "source": [
        "\n",
        "imputer = KNNImputer(n_neighbors=2)\n",
        "imputer.fit_transform(X)"
      ],
      "metadata": {
        "id": "5tvN88BWZgsE"
      },
      "execution_count": null,
      "outputs": []
    },
    {
      "cell_type": "code",
      "source": [
        "df"
      ],
      "metadata": {
        "id": "30wl4H5Lquc8"
      },
      "execution_count": null,
      "outputs": []
    },
    {
      "cell_type": "code",
      "source": [
        "df.describe().T"
      ],
      "metadata": {
        "id": "PjTkrLCPoyBF"
      },
      "execution_count": null,
      "outputs": []
    },
    {
      "cell_type": "code",
      "source": [
        "for col in numeric_cols:\n",
        "      df[col] = pd.to_numeric(df[col], errors='coerce')"
      ],
      "metadata": {
        "id": "Eeb2NIbfhBRY"
      },
      "execution_count": null,
      "outputs": []
    },
    {
      "cell_type": "code",
      "source": [
        "dfuse = pd.DataFrame()\n",
        "dfuse['energy_100g']= df['energy_100g']\n",
        "dfuse['energy-from-fat_100g']= df['energy-from-fat_100g']\n",
        "dfuse['fat_100g']= df['fat_100g']\n",
        "dfuse['saturated-fat_100g']= df['saturated-fat_100g']\n",
        "dfuse['butyric-acid_100g']= df['butyric-acid_100g']\n",
        "dfuse['caproic-acid_100g']= df['caproic-acid_100g']\n",
        "dfuse['caprylic-acid_100g']= df['caprylic-acid_100g']\n",
        "#dfuse['capric-acid_100g']= df['capric-acid_100g']\n",
        "#dfuse['lauric-acid_100g']= df['lauric-acid_100g']\n"
      ],
      "metadata": {
        "id": "XVvLYHwSBdDy"
      },
      "execution_count": null,
      "outputs": []
    },
    {
      "cell_type": "code",
      "source": [
        "dfuse.nunique()"
      ],
      "metadata": {
        "colab": {
          "base_uri": "https://localhost:8080/"
        },
        "id": "qGm1Ys7Gyjze",
        "outputId": "c401558e-5453-4cb7-e377-1db2a15af3e3"
      },
      "execution_count": null,
      "outputs": [
        {
          "output_type": "execute_result",
          "data": {
            "text/plain": [
              "energy_100g             3449\n",
              "energy-from-fat_100g     144\n",
              "fat_100g                1246\n",
              "saturated-fat_100g      1023\n",
              "dtype: int64"
            ]
          },
          "metadata": {},
          "execution_count": 45
        }
      ]
    },
    {
      "cell_type": "code",
      "source": [
        " = dfuse.sample(frac=.01).dropna().corr()"
      ],
      "metadata": {
        "colab": {
          "base_uri": "https://localhost:8080/",
          "height": 175
        },
        "id": "dDDlv9xrzb5l",
        "outputId": "4ffe83f6-9223-470f-83f0-c45c4dd4daac"
      },
      "execution_count": null,
      "outputs": [
        {
          "output_type": "execute_result",
          "data": {
            "text/plain": [
              "                      energy_100g  energy-from-fat_100g  fat_100g  \\\n",
              "energy_100g              1.000000             -0.021239  0.740498   \n",
              "energy-from-fat_100g    -0.021239              1.000000  0.033241   \n",
              "fat_100g                 0.740498              0.033241  1.000000   \n",
              "saturated-fat_100g       0.548072              0.035383  0.686958   \n",
              "\n",
              "                      saturated-fat_100g  \n",
              "energy_100g                     0.548072  \n",
              "energy-from-fat_100g            0.035383  \n",
              "fat_100g                        0.686958  \n",
              "saturated-fat_100g              1.000000  "
            ],
            "text/html": [
              "\n",
              "  <div id=\"df-5add4b2d-df0c-4cc0-bda3-018dccab464f\">\n",
              "    <div class=\"colab-df-container\">\n",
              "      <div>\n",
              "<style scoped>\n",
              "    .dataframe tbody tr th:only-of-type {\n",
              "        vertical-align: middle;\n",
              "    }\n",
              "\n",
              "    .dataframe tbody tr th {\n",
              "        vertical-align: top;\n",
              "    }\n",
              "\n",
              "    .dataframe thead th {\n",
              "        text-align: right;\n",
              "    }\n",
              "</style>\n",
              "<table border=\"1\" class=\"dataframe\">\n",
              "  <thead>\n",
              "    <tr style=\"text-align: right;\">\n",
              "      <th></th>\n",
              "      <th>energy_100g</th>\n",
              "      <th>energy-from-fat_100g</th>\n",
              "      <th>fat_100g</th>\n",
              "      <th>saturated-fat_100g</th>\n",
              "    </tr>\n",
              "  </thead>\n",
              "  <tbody>\n",
              "    <tr>\n",
              "      <th>energy_100g</th>\n",
              "      <td>1.000000</td>\n",
              "      <td>-0.021239</td>\n",
              "      <td>0.740498</td>\n",
              "      <td>0.548072</td>\n",
              "    </tr>\n",
              "    <tr>\n",
              "      <th>energy-from-fat_100g</th>\n",
              "      <td>-0.021239</td>\n",
              "      <td>1.000000</td>\n",
              "      <td>0.033241</td>\n",
              "      <td>0.035383</td>\n",
              "    </tr>\n",
              "    <tr>\n",
              "      <th>fat_100g</th>\n",
              "      <td>0.740498</td>\n",
              "      <td>0.033241</td>\n",
              "      <td>1.000000</td>\n",
              "      <td>0.686958</td>\n",
              "    </tr>\n",
              "    <tr>\n",
              "      <th>saturated-fat_100g</th>\n",
              "      <td>0.548072</td>\n",
              "      <td>0.035383</td>\n",
              "      <td>0.686958</td>\n",
              "      <td>1.000000</td>\n",
              "    </tr>\n",
              "  </tbody>\n",
              "</table>\n",
              "</div>\n",
              "      <button class=\"colab-df-convert\" onclick=\"convertToInteractive('df-5add4b2d-df0c-4cc0-bda3-018dccab464f')\"\n",
              "              title=\"Convert this dataframe to an interactive table.\"\n",
              "              style=\"display:none;\">\n",
              "        \n",
              "  <svg xmlns=\"http://www.w3.org/2000/svg\" height=\"24px\"viewBox=\"0 0 24 24\"\n",
              "       width=\"24px\">\n",
              "    <path d=\"M0 0h24v24H0V0z\" fill=\"none\"/>\n",
              "    <path d=\"M18.56 5.44l.94 2.06.94-2.06 2.06-.94-2.06-.94-.94-2.06-.94 2.06-2.06.94zm-11 1L8.5 8.5l.94-2.06 2.06-.94-2.06-.94L8.5 2.5l-.94 2.06-2.06.94zm10 10l.94 2.06.94-2.06 2.06-.94-2.06-.94-.94-2.06-.94 2.06-2.06.94z\"/><path d=\"M17.41 7.96l-1.37-1.37c-.4-.4-.92-.59-1.43-.59-.52 0-1.04.2-1.43.59L10.3 9.45l-7.72 7.72c-.78.78-.78 2.05 0 2.83L4 21.41c.39.39.9.59 1.41.59.51 0 1.02-.2 1.41-.59l7.78-7.78 2.81-2.81c.8-.78.8-2.07 0-2.86zM5.41 20L4 18.59l7.72-7.72 1.47 1.35L5.41 20z\"/>\n",
              "  </svg>\n",
              "      </button>\n",
              "      \n",
              "  <style>\n",
              "    .colab-df-container {\n",
              "      display:flex;\n",
              "      flex-wrap:wrap;\n",
              "      gap: 12px;\n",
              "    }\n",
              "\n",
              "    .colab-df-convert {\n",
              "      background-color: #E8F0FE;\n",
              "      border: none;\n",
              "      border-radius: 50%;\n",
              "      cursor: pointer;\n",
              "      display: none;\n",
              "      fill: #1967D2;\n",
              "      height: 32px;\n",
              "      padding: 0 0 0 0;\n",
              "      width: 32px;\n",
              "    }\n",
              "\n",
              "    .colab-df-convert:hover {\n",
              "      background-color: #E2EBFA;\n",
              "      box-shadow: 0px 1px 2px rgba(60, 64, 67, 0.3), 0px 1px 3px 1px rgba(60, 64, 67, 0.15);\n",
              "      fill: #174EA6;\n",
              "    }\n",
              "\n",
              "    [theme=dark] .colab-df-convert {\n",
              "      background-color: #3B4455;\n",
              "      fill: #D2E3FC;\n",
              "    }\n",
              "\n",
              "    [theme=dark] .colab-df-convert:hover {\n",
              "      background-color: #434B5C;\n",
              "      box-shadow: 0px 1px 3px 1px rgba(0, 0, 0, 0.15);\n",
              "      filter: drop-shadow(0px 1px 2px rgba(0, 0, 0, 0.3));\n",
              "      fill: #FFFFFF;\n",
              "    }\n",
              "  </style>\n",
              "\n",
              "      <script>\n",
              "        const buttonEl =\n",
              "          document.querySelector('#df-5add4b2d-df0c-4cc0-bda3-018dccab464f button.colab-df-convert');\n",
              "        buttonEl.style.display =\n",
              "          google.colab.kernel.accessAllowed ? 'block' : 'none';\n",
              "\n",
              "        async function convertToInteractive(key) {\n",
              "          const element = document.querySelector('#df-5add4b2d-df0c-4cc0-bda3-018dccab464f');\n",
              "          const dataTable =\n",
              "            await google.colab.kernel.invokeFunction('convertToInteractive',\n",
              "                                                     [key], {});\n",
              "          if (!dataTable) return;\n",
              "\n",
              "          const docLinkHtml = 'Like what you see? Visit the ' +\n",
              "            '<a target=\"_blank\" href=https://colab.research.google.com/notebooks/data_table.ipynb>data table notebook</a>'\n",
              "            + ' to learn more about interactive tables.';\n",
              "          element.innerHTML = '';\n",
              "          dataTable['output_type'] = 'display_data';\n",
              "          await google.colab.output.renderOutput(dataTable, element);\n",
              "          const docLink = document.createElement('div');\n",
              "          docLink.innerHTML = docLinkHtml;\n",
              "          element.appendChild(docLink);\n",
              "        }\n",
              "      </script>\n",
              "    </div>\n",
              "  </div>\n",
              "  "
            ]
          },
          "metadata": {},
          "execution_count": 50
        }
      ]
    },
    {
      "cell_type": "code",
      "source": [
        "g = sns.clustermap(dfuse.sample(frac=.01).corr(),vmin=-1, vmax=1, annot=True,cmap='BrBG')"
      ],
      "metadata": {
        "colab": {
          "base_uri": "https://localhost:8080/",
          "height": 730
        },
        "id": "qvXGcyiB3p4H",
        "outputId": "8ef549d0-9764-4486-8fe7-85e5c3237c04"
      },
      "execution_count": null,
      "outputs": [
        {
          "output_type": "display_data",
          "data": {
            "text/plain": [
              "<Figure size 720x720 with 4 Axes>"
            ],
            "image/png": "[encoded data removed]"
          },
          "metadata": {
            "needs_background": "light"
          }
        }
      ]
    },
    {
      "cell_type": "code",
      "source": [
        "g = sns.fastcluster(dfuse, standard_scale=1)"
      ],
      "metadata": {
        "colab": {
          "base_uri": "https://localhost:8080/",
          "height": 166
        },
        "id": "9Z9Soc0XlWjX",
        "outputId": "44184609-a895-4291-af00-dc0e2e76c1c2"
      },
      "execution_count": null,
      "outputs": [
        {
          "output_type": "error",
          "ename": "AttributeError",
          "evalue": "ignored",
          "traceback": [
            "\u001b[0;31m---------------------------------------------------------------------------\u001b[0m",
            "\u001b[0;31mAttributeError\u001b[0m                            Traceback (most recent call last)",
            "\u001b[0;32m<ipython-input-26-4d1c897436d0>\u001b[0m in \u001b[0;36m<module>\u001b[0;34m()\u001b[0m\n\u001b[0;32m----> 1\u001b[0;31m \u001b[0mg\u001b[0m \u001b[0;34m=\u001b[0m \u001b[0msns\u001b[0m\u001b[0;34m.\u001b[0m\u001b[0mfastcluster\u001b[0m\u001b[0;34m(\u001b[0m\u001b[0mdfuse\u001b[0m\u001b[0;34m,\u001b[0m \u001b[0mstandard_scale\u001b[0m\u001b[0;34m=\u001b[0m\u001b[0;36m1\u001b[0m\u001b[0;34m)\u001b[0m\u001b[0;34m\u001b[0m\u001b[0;34m\u001b[0m\u001b[0m\n\u001b[0m",
            "\u001b[0;31mAttributeError\u001b[0m: module 'seaborn' has no attribute 'fastcluster'"
          ]
        }
      ]
    },
    {
      "cell_type": "code",
      "source": [
        "dfuse.shape"
      ],
      "metadata": {
        "id": "t70bdnWou9Ad"
      },
      "execution_count": null,
      "outputs": []
    },
    {
      "cell_type": "code",
      "source": [
        "dfuse.sample(frac=.01).shape\n"
      ],
      "metadata": {
        "id": "sgHU4PXvvsiH"
      },
      "execution_count": null,
      "outputs": []
    }
  ],
  "metadata": {
    "colab": {
      "name": "Project3AI.ipynb",
      "provenance": [],
      "collapsed_sections": [],
      "include_colab_link": true
    },
    "kernelspec": {
      "display_name": "Python 3",
      "name": "python3"
    },
    "language_info": {
      "name": "python"
    }
  },
  "nbformat": 4,
  "nbformat_minor": 0
}